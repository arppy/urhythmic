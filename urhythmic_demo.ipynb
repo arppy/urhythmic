{
  "cells": [
    {
      "cell_type": "markdown",
      "metadata": {
        "colab_type": "text",
        "id": "view-in-github"
      },
      "source": [
        "<a href=\"https://colab.research.google.com/github/bshall/urhythmic/blob/main/urhythmic_demo.ipynb\" target=\"_parent\"><img src=\"https://colab.research.google.com/assets/colab-badge.svg\" alt=\"Open In Colab\"/></a>"
      ]
    },
    {
      "cell_type": "markdown",
      "metadata": {
        "id": "I0SMrN7KVoVO"
      },
      "source": [
        "#Urhythmic: Rhythm Modeling for Voice Conversion\n",
        "\n",
        "Demo for the paper: [Rhythm Modeling for Voice Conversion]().\n",
        "\n",
        "*   [Companion webpage](https://ubisoft-laforge.github.io/speech/urhythmic/)\n",
        "*   [Code repository](https://github.com/bshall/urhythmic)\n",
        "*   [HuBERT content encoder](https://github.com/bshall/hubert)"
      ]
    },
    {
      "cell_type": "code",
      "execution_count": null,
      "metadata": {},
      "outputs": [],
      "source": [
        "import torch, torchaudio\n",
        "import requests\n",
        "import IPython.display as display"
      ]
    },
    {
      "cell_type": "markdown",
      "metadata": {
        "id": "Y5GUYFKHWRfs"
      },
      "source": [
        "Download the `HubertSoft` content encoder (see https://github.com/bshall/hubert for details):"
      ]
    },
    {
      "cell_type": "code",
      "execution_count": null,
      "metadata": {},
      "outputs": [],
      "source": [
        "hubert = torch.hub.load(\"bshall/hubert:main\", \"hubert_soft\", trust_repo=True).cuda()"
      ]
    },
    {
      "cell_type": "markdown",
      "metadata": {
        "id": "m2FvNyEZXSl4"
      },
      "source": [
        " Select the source and target speakers. Pretrained models are available for:\n",
        "1.   VCTK: p228, p268, p225, p232, p257, p231\n",
        "2.   and LJSpeech.\n",
        "\n"
      ]
    },
    {
      "cell_type": "code",
      "execution_count": null,
      "metadata": {},
      "outputs": [],
      "source": [
        "source, target = \"p228\", \"p232\""
      ]
    },
    {
      "cell_type": "markdown",
      "metadata": {
        "id": "QTnaU8u5W-2L"
      },
      "source": [
        "Download the `Urhythmic` voice conversion mode (either urhythmic_fine or urhythmic_global):"
      ]
    },
    {
      "cell_type": "code",
      "execution_count": null,
      "metadata": {},
      "outputs": [],
      "source": [
        "urhythmic, encode = torch.hub.load(\"bshall/urhythmic:main\", \"urhythmic_fine\", source_speaker=source, target_speaker=target, trust_repo=True)\n",
        "urhythmic = urhythmic.cuda()"
      ]
    },
    {
      "cell_type": "markdown",
      "metadata": {
        "id": "ElGokuPViBng"
      },
      "source": [
        "Download an example utterance:"
      ]
    },
    {
      "cell_type": "code",
      "execution_count": null,
      "metadata": {},
      "outputs": [],
      "source": [
        "with open(\"p228_003.wav\", \"wb\") as file:\n",
        "  response = requests.get(\"https://github.com/bshall/urhythmic/raw/gh-pages/samples/urhythmic-fine/source/p228_003.wav\")\n",
        "  file.write(response.content)"
      ]
    },
    {
      "cell_type": "markdown",
      "metadata": {
        "id": "dANIeGxH4JRv"
      },
      "source": [
        "Load the audio file:"
      ]
    },
    {
      "cell_type": "code",
      "execution_count": null,
      "metadata": {},
      "outputs": [],
      "source": [
        "wav, sr = torchaudio.load(\"p228_003.wav\")\n",
        "wav = wav.unsqueeze(0).cuda()"
      ]
    },
    {
      "cell_type": "markdown",
      "metadata": {
        "id": "Pw7W1kad4Nbm"
      },
      "source": [
        "Extract the soft speech units and log probabilies:"
      ]
    },
    {
      "cell_type": "code",
      "execution_count": null,
      "metadata": {},
      "outputs": [],
      "source": [
        "units, log_probs = encode(hubert, wav)"
      ]
    },
    {
      "cell_type": "markdown",
      "metadata": {
        "id": "Wxxf-5Vt4VfT"
      },
      "source": [
        "Convert to the target speaker:"
      ]
    },
    {
      "cell_type": "code",
      "execution_count": null,
      "metadata": {},
      "outputs": [],
      "source": [
        "wav_ = urhythmic(units, log_probs)"
      ]
    },
    {
      "cell_type": "markdown",
      "metadata": {
        "id": "gY7tKZkP4btg"
      },
      "source": [
        "Listen to the result!"
      ]
    },
    {
      "cell_type": "code",
      "execution_count": null,
      "metadata": {},
      "outputs": [],
      "source": [
        "display.Audio(wav.squeeze().cpu().numpy(), rate=16000)  # source"
      ]
    },
    {
      "cell_type": "code",
      "execution_count": null,
      "metadata": {
        "id": "3-p5dmxXmOdc"
      },
      "outputs": [],
      "source": [
        "display.Audio(wav_.squeeze().cpu().numpy(), rate=16000)  # converted"
      ]
    }
  ],
  "metadata": {
    "accelerator": "GPU",
    "colab": {
      "authorship_tag": "ABX9TyOTVEzGSobOMIxcq+ibHeEp",
      "gpuType": "T4",
      "include_colab_link": true,
      "provenance": []
    },
    "kernelspec": {
      "display_name": "Python 3",
      "name": "python3"
    },
    "language_info": {
      "name": "python"
    }
  },
  "nbformat": 4,
  "nbformat_minor": 0
}
